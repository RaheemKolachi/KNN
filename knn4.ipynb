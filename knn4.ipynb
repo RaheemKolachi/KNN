{
 "cells": [
  {
   "cell_type": "code",
   "execution_count": 1,
   "id": "8686eb8c",
   "metadata": {},
   "outputs": [],
   "source": [
    "from sklearn.neighbors import KNeighborsClassifier\n",
    "from sklearn.model_selection import train_test_split\n",
    "import pandas as pd\n",
    "import numpy as np\n",
    "import matplotlib.pyplot as plt \n",
    "import os \n",
    "from imutils import paths\n",
    "import cv2"
   ]
  },
  {
   "cell_type": "code",
   "execution_count": 2,
   "id": "7cf48a3e",
   "metadata": {},
   "outputs": [],
   "source": [
    "img=list(paths.list_images(\"Downloads/archive (15)/training_set\"))\n",
    "imges1=[]\n",
    "labels=[]"
   ]
  },
  {
   "cell_type": "code",
   "execution_count": 3,
   "id": "8d5639fb",
   "metadata": {},
   "outputs": [],
   "source": [
    "def imgmodi(img,size=(32,32)):\n",
    "    img=cv2.resize(img,size)\n",
    "    pix=img.flatten()\n",
    "    return pix"
   ]
  },
  {
   "cell_type": "code",
   "execution_count": 4,
   "id": "937aa39f",
   "metadata": {},
   "outputs": [],
   "source": [
    "for (i,imgs) in enumerate(img):\n",
    "    image=cv2.imread(imgs)\n",
    "    label=imgs.split(os.path.sep)[-1].split(\".\")[0]\n",
    "    pixal=imgmodi(image)\n",
    "    imges1.append(pixal)\n",
    "    labels.append(label)\n",
    "    \n",
    "    "
   ]
  },
  {
   "cell_type": "code",
   "execution_count": 6,
   "id": "6d83533e",
   "metadata": {},
   "outputs": [],
   "source": [
    "x=np.array(imges1)\n",
    "y=np.array(labels)"
   ]
  },
  {
   "cell_type": "code",
   "execution_count": 7,
   "id": "a658ac6b",
   "metadata": {},
   "outputs": [
    {
     "data": {
      "text/plain": [
       "KNeighborsClassifier()"
      ]
     },
     "execution_count": 7,
     "metadata": {},
     "output_type": "execute_result"
    }
   ],
   "source": [
    "knn=KNeighborsClassifier(n_neighbors=5)\n",
    "xtrain,xtest,ytrain,ytest=train_test_split(x,y,test_size=0.2,random_state=0)\n",
    "knn.fit(xtrain,ytrain)"
   ]
  },
  {
   "cell_type": "code",
   "execution_count": 8,
   "id": "d40f6790",
   "metadata": {},
   "outputs": [
    {
     "data": {
      "text/plain": [
       "0.5527795128044972"
      ]
     },
     "execution_count": 8,
     "metadata": {},
     "output_type": "execute_result"
    }
   ],
   "source": [
    "knn.score(xtest,ytest)"
   ]
  },
  {
   "cell_type": "code",
   "execution_count": 9,
   "id": "ef421699",
   "metadata": {},
   "outputs": [],
   "source": [
    "img=cv2.imread(\"dog.4114.jpg\") # download any cat and dog image and call that image for prediction \n",
    "im=imgmodi(img)\n",
    "img2=np.array([im])\n",
    "pred=knn.predict(img2)"
   ]
  },
  {
   "cell_type": "code",
   "execution_count": 10,
   "id": "308d8adc",
   "metadata": {},
   "outputs": [
    {
     "data": {
      "text/plain": [
       "array(['dog'], dtype='<U3')"
      ]
     },
     "execution_count": 10,
     "metadata": {},
     "output_type": "execute_result"
    }
   ],
   "source": [
    "pred"
   ]
  },
  {
   "cell_type": "code",
   "execution_count": 11,
   "id": "aa6ff4ec",
   "metadata": {},
   "outputs": [
    {
     "name": "stdout",
     "output_type": "stream",
     "text": [
      " i dont like  ['dog']\n"
     ]
    }
   ],
   "source": [
    "if (pred=='cat'):\n",
    "    print(\"i like \",pred)\n",
    "elif (pred=='dog'):\n",
    "    print(\" i dont like \",pred)"
   ]
  },
  {
   "cell_type": "code",
   "execution_count": 12,
   "id": "7bb12cfd",
   "metadata": {},
   "outputs": [],
   "source": [
    "\n",
    "new_image = cv2.putText(img ,text = str(pred) ,org = (50, 100),fontFace = cv2.FONT_HERSHEY_DUPLEX,fontScale = 3.0,color = (125, 246, 55),thickness = 2)\n"
   ]
  },
  {
   "cell_type": "code",
   "execution_count": 13,
   "id": "4d4b5549",
   "metadata": {},
   "outputs": [
    {
     "data": {
      "text/plain": [
       "-1"
      ]
     },
     "execution_count": 13,
     "metadata": {},
     "output_type": "execute_result"
    }
   ],
   "source": [
    "cv2.imshow(\"image \",img )\n",
    "cv2.waitKey(100)"
   ]
  },
  {
   "cell_type": "code",
   "execution_count": null,
   "id": "383b5f5c",
   "metadata": {},
   "outputs": [],
   "source": []
  }
 ],
 "metadata": {
  "kernelspec": {
   "display_name": "Python 3 (ipykernel)",
   "language": "python",
   "name": "python3"
  },
  "language_info": {
   "codemirror_mode": {
    "name": "ipython",
    "version": 3
   },
   "file_extension": ".py",
   "mimetype": "text/x-python",
   "name": "python",
   "nbconvert_exporter": "python",
   "pygments_lexer": "ipython3",
   "version": "3.9.7"
  }
 },
 "nbformat": 4,
 "nbformat_minor": 5
}
